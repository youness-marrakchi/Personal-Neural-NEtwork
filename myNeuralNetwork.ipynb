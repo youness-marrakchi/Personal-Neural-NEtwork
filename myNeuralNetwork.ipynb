{
  "nbformat": 4,
  "nbformat_minor": 0,
  "metadata": {
    "colab": {
      "provenance": [],
      "gpuType": "T4",
      "authorship_tag": "ABX9TyNmgae7cgTO5N5q4GehQw3a",
      "include_colab_link": true
    },
    "kernelspec": {
      "name": "python3",
      "display_name": "Python 3"
    },
    "language_info": {
      "name": "python"
    },
    "accelerator": "GPU"
  },
  "cells": [
    {
      "cell_type": "markdown",
      "metadata": {
        "id": "view-in-github",
        "colab_type": "text"
      },
      "source": [
        "<a href=\"https://colab.research.google.com/github/youness-marrakchi/Personal-Neural-NEtwork/blob/main/myNeuralNetwork.ipynb\" target=\"_parent\"><img src=\"https://colab.research.google.com/assets/colab-badge.svg\" alt=\"Open In Colab\"/></a>"
      ]
    },
    {
      "cell_type": "code",
      "execution_count": 55,
      "metadata": {
        "id": "OiHSS0XL-VTY"
      },
      "outputs": [],
      "source": [
        "import numpy as np\n",
        "import matplotlib.pyplot as plt\n",
        "from tensorflow.keras.datasets import mnist, fashion_mnist"
      ]
    },
    {
      "cell_type": "code",
      "source": [
        "# ReLU activation function\n",
        "def relu(x):\n",
        "    return np.maximum(0, x)\n",
        "\n",
        "# Derivative of ReLU\n",
        "def relu_derivative(x):\n",
        "    return np.where(x > 0, 1, 0)\n",
        "\n",
        "# Sigmoid activation function\n",
        "def sigmoid(x):\n",
        "    return 1 / (1 + np.exp(-x))\n",
        "\n",
        "# Derivative of Sigmoid\n",
        "def sigmoid_derivative(x):\n",
        "    return sigmoid(x) * (1 - sigmoid(x))\n"
      ],
      "metadata": {
        "id": "v1zHEpFHDBHC"
      },
      "execution_count": 2,
      "outputs": []
    },
    {
      "cell_type": "markdown",
      "source": [
        "# 1 - Building The **Neural Network**"
      ],
      "metadata": {
        "id": "q8S9KsZB_7Up"
      }
    },
    {
      "cell_type": "code",
      "source": [
        "class NeuralNetwork():\n",
        "\n",
        "  def __init__(self, input_size, hidden_layers, output_size):\n",
        "    self.layers = [input_size] + hidden_layers + [output_size]\n",
        "    self.weights = []\n",
        "    self.biases = []\n",
        "    self.loss_history = []  # Initialize loss history here\n",
        "\n",
        "    # Initialize weights/biases\n",
        "    for i in range(len(self.layers) - 1):\n",
        "      weight = np.random.randn(self.layers[i], self.layers[i+1]) * 0.1\n",
        "      bias = np.zeros((1, self.layers[i+1]))\n",
        "      self.weights.append(weight)\n",
        "      self.biases.append(bias)\n",
        "\n",
        "  def forward(self, X):\n",
        "    self.a = [X] # Storing the activations for each layer\n",
        "    for i in range(len(self.weights)):\n",
        "      z = np.dot(self.a[i], self.weights[i]) + self.biases[i]\n",
        "\n",
        "      if i < len(self.weights) - 1:\n",
        "        a = relu(z) # for hidden layers\n",
        "      else:\n",
        "        a = sigmoid(z) # for output layers\n",
        "\n",
        "      self.a.append(a)\n",
        "\n",
        "    return self.a[-1]\n",
        "\n",
        "\n",
        "  def backward(self, X, y, learning_rate):\n",
        "    m = y.shape[0]\n",
        "    output = self.a[-1]\n",
        "\n",
        "    err = output - y\n",
        "    d_output = err * sigmoid_derivative(output)\n",
        "\n",
        "    # Gradients for output layer\n",
        "    self.d_weights = [np.dot(self.a[-2].T, d_output) / m]\n",
        "    self.d_biases = [np.sum(d_output, axis=0, keepdims=True) / m]\n",
        "\n",
        "    # Backpropagation through hidden layers\n",
        "    for i in reversed(range(len(self.weights) - 1)):\n",
        "        err = d_output.dot(self.weights[i + 1].T)  # Error backpropagated\n",
        "        d_hidden = err * relu_derivative(self.a[i + 1])  # Derivative of ReLU\n",
        "        self.d_weights.insert(0, np.dot(self.a[i].T, d_hidden) / m)  # Insert at the beginning\n",
        "        self.d_biases.insert(0, np.sum(d_hidden, axis=0, keepdims=True) / m)\n",
        "        d_output = d_hidden  # Update for next layer\n",
        "\n",
        "\n",
        "  def update_parameters(self, learning_rate):\n",
        "    for i in range(len(self.weights)):\n",
        "        self.weights[i] -= learning_rate * self.d_weights[i]  # Update weights\n",
        "        self.biases[i] -= learning_rate * self.d_biases[i]  # Update biases\n",
        "\n",
        "  def train(self, X, y, epochs, learning_rate):\n",
        "    for epoch in range(epochs):\n",
        "        output = self.forward(X)  # Perform a forward pass\n",
        "        self.backward(X, y, learning_rate)  # Backpropagate the error\n",
        "        self.update_parameters(learning_rate)  # Update weights and biases\n",
        "\n",
        "        loss = np.mean(np.square(y - output))  # Mean squared error\n",
        "        self.loss_history.append(loss)  # Append loss after each epoch\n",
        "\n",
        "        if epoch % 1000 == 0:\n",
        "            print(f\"Epoch {epoch}, Loss: {loss:.4f}\")\n",
        "\n",
        "  def predict(self, X):\n",
        "    return self.forward(X)"
      ],
      "metadata": {
        "id": "NcQ-uy9EAIpN"
      },
      "execution_count": 45,
      "outputs": []
    },
    {
      "cell_type": "code",
      "source": [
        "# Create XOR dataset\n",
        "X = np.array([[0, 0], [0, 1], [1, 0], [1, 1]])  # Input\n",
        "y = np.array([[0], [1], [1], [0]])  # XOR Output\n",
        "\n",
        "# Initialize neural network\n",
        "nn = NeuralNetwork(input_size=2, hidden_layers=[8], output_size=1)"
      ],
      "metadata": {
        "id": "C0KHhuanGWZP"
      },
      "execution_count": 46,
      "outputs": []
    },
    {
      "cell_type": "markdown",
      "source": [
        "# 2 - Training the NN using **XOR**"
      ],
      "metadata": {
        "id": "J679ggs2H3av"
      }
    },
    {
      "cell_type": "code",
      "source": [
        "# Train the neural network\n",
        "nn.train(X, y, epochs=20000, learning_rate=0.01)"
      ],
      "metadata": {
        "colab": {
          "base_uri": "https://localhost:8080/"
        },
        "id": "Gek848fgH2wB",
        "outputId": "a6d2de34-882f-4711-96fe-89509845f73f"
      },
      "execution_count": 47,
      "outputs": [
        {
          "output_type": "stream",
          "name": "stdout",
          "text": [
            "Epoch 0, Loss: 0.2497\n",
            "Epoch 1000, Loss: 0.2492\n",
            "Epoch 2000, Loss: 0.2486\n",
            "Epoch 3000, Loss: 0.2479\n",
            "Epoch 4000, Loss: 0.2468\n",
            "Epoch 5000, Loss: 0.2452\n",
            "Epoch 6000, Loss: 0.2428\n",
            "Epoch 7000, Loss: 0.2393\n",
            "Epoch 8000, Loss: 0.2344\n",
            "Epoch 9000, Loss: 0.2275\n",
            "Epoch 10000, Loss: 0.2182\n",
            "Epoch 11000, Loss: 0.2062\n",
            "Epoch 12000, Loss: 0.1914\n",
            "Epoch 13000, Loss: 0.1739\n",
            "Epoch 14000, Loss: 0.1540\n",
            "Epoch 15000, Loss: 0.1324\n",
            "Epoch 16000, Loss: 0.1102\n",
            "Epoch 17000, Loss: 0.0891\n",
            "Epoch 18000, Loss: 0.0705\n",
            "Epoch 19000, Loss: 0.0552\n"
          ]
        }
      ]
    },
    {
      "cell_type": "code",
      "source": [
        "# Test the network's predictions\n",
        "predictions = nn.predict(X)\n",
        "\n",
        "# Round the predictions to binary values (0 or 1) for easier interpretation\n",
        "binary_predictions = np.round(predictions)\n",
        "\n",
        "# Print results\n",
        "print(\"Predictions:\")\n",
        "print(predictions)\n",
        "print(\"Binary Predictions (rounded):\")\n",
        "print(binary_predictions)"
      ],
      "metadata": {
        "colab": {
          "base_uri": "https://localhost:8080/"
        },
        "id": "NQ92IoF3IxBN",
        "outputId": "d75e6224-05e2-4267-e7d9-7a5ee1efc42b"
      },
      "execution_count": 48,
      "outputs": [
        {
          "output_type": "stream",
          "name": "stdout",
          "text": [
            "Predictions:\n",
            "[[0.24767342]\n",
            " [0.81462472]\n",
            " [0.87481646]\n",
            " [0.24767342]]\n",
            "Binary Predictions (rounded):\n",
            "[[0.]\n",
            " [1.]\n",
            " [1.]\n",
            " [0.]]\n"
          ]
        }
      ]
    },
    {
      "cell_type": "code",
      "source": [
        "plt.plot(nn.loss_history)\n",
        "plt.title('Loss over Epochs')\n",
        "plt.xlabel('Epoch')\n",
        "plt.ylabel('Loss')\n",
        "plt.show()"
      ],
      "metadata": {
        "colab": {
          "base_uri": "https://localhost:8080/",
          "height": 472
        },
        "id": "jP5jfVVfK87q",
        "outputId": "9f36f860-c017-4c36-e9aa-bfbbdc48c368"
      },
      "execution_count": 49,
      "outputs": [
        {
          "output_type": "display_data",
          "data": {
            "text/plain": [
              "<Figure size 640x480 with 1 Axes>"
            ],
            "image/png": "[encoded data removed]"
          },
          "metadata": {}
        }
      ]
    },
    {
      "cell_type": "markdown",
      "source": [
        "# 3 - Loading the **MNIST** dataset for testing"
      ],
      "metadata": {
        "id": "hESY9yzrOgrO"
      }
    },
    {
      "cell_type": "code",
      "source": [
        "# Load MNIST dataset\n",
        "(X_train_mnist, y_train_mnist), (X_test_mnist, y_test_mnist) = mnist.load_data()\n",
        "\n",
        "# Load Fashion MNIST dataset\n",
        "(X_train_fashion, y_train_fashion), (X_test_fashion, y_test_fashion) = fashion_mnist.load_data()"
      ],
      "metadata": {
        "colab": {
          "base_uri": "https://localhost:8080/"
        },
        "id": "3ppqPmH6Okdx",
        "outputId": "0796a82c-0093-4a65-9be0-803030708891"
      },
      "execution_count": 56,
      "outputs": [
        {
          "output_type": "stream",
          "name": "stdout",
          "text": [
            "Downloading data from https://storage.googleapis.com/tensorflow/tf-keras-datasets/mnist.npz\n",
            "\u001b[1m11490434/11490434\u001b[0m \u001b[32m━━━━━━━━━━━━━━━━━━━━\u001b[0m\u001b[37m\u001b[0m \u001b[1m0s\u001b[0m 0us/step\n",
            "Downloading data from https://storage.googleapis.com/tensorflow/tf-keras-datasets/train-labels-idx1-ubyte.gz\n",
            "\u001b[1m29515/29515\u001b[0m \u001b[32m━━━━━━━━━━━━━━━━━━━━\u001b[0m\u001b[37m\u001b[0m \u001b[1m0s\u001b[0m 0us/step\n",
            "Downloading data from https://storage.googleapis.com/tensorflow/tf-keras-datasets/train-images-idx3-ubyte.gz\n",
            "\u001b[1m26421880/26421880\u001b[0m \u001b[32m━━━━━━━━━━━━━━━━━━━━\u001b[0m\u001b[37m\u001b[0m \u001b[1m0s\u001b[0m 0us/step\n",
            "Downloading data from https://storage.googleapis.com/tensorflow/tf-keras-datasets/t10k-labels-idx1-ubyte.gz\n",
            "\u001b[1m5148/5148\u001b[0m \u001b[32m━━━━━━━━━━━━━━━━━━━━\u001b[0m\u001b[37m\u001b[0m \u001b[1m0s\u001b[0m 0us/step\n",
            "Downloading data from https://storage.googleapis.com/tensorflow/tf-keras-datasets/t10k-images-idx3-ubyte.gz\n",
            "\u001b[1m4422102/4422102\u001b[0m \u001b[32m━━━━━━━━━━━━━━━━━━━━\u001b[0m\u001b[37m\u001b[0m \u001b[1m0s\u001b[0m 0us/step\n"
          ]
        }
      ]
    },
    {
      "cell_type": "markdown",
      "source": [
        "## Data preprocessing and reshaping"
      ],
      "metadata": {
        "id": "ujxcb1HfOr-X"
      }
    },
    {
      "cell_type": "code",
      "source": [
        "# Normalize the image data to the range [0, 1]\n",
        "X_train_mnist = X_train_mnist.astype('float32') / 255.0\n",
        "X_test_mnist = X_test_mnist.astype('float32') / 255.0\n",
        "\n",
        "X_train_fashion = X_train_fashion.astype('float32') / 255.0\n",
        "X_test_fashion = X_test_fashion.astype('float32') / 255.0\n",
        "\n",
        "# Reshape the data to be (samples, height, width, channels) if using CNN\n",
        "X_train_mnist = X_train_mnist.reshape(-1, 28, 28, 1)\n",
        "X_test_mnist = X_test_mnist.reshape(-1, 28, 28, 1)\n",
        "\n",
        "X_train_fashion = X_train_fashion.reshape(-1, 28, 28, 1)\n",
        "X_test_fashion = X_test_fashion.reshape(-1, 28, 28, 1)\n",
        "\n",
        "# One-hot encode the labels\n",
        "from tensorflow.keras.utils import to_categorical\n",
        "\n",
        "y_train_mnist = to_categorical(y_train_mnist, num_classes=10)\n",
        "y_test_mnist = to_categorical(y_test_mnist, num_classes=10)\n",
        "\n",
        "y_train_fashion = to_categorical(y_train_fashion, num_classes=10)\n",
        "y_test_fashion = to_categorical(y_test_fashion, num_classes=10)\n"
      ],
      "metadata": {
        "id": "GNmE__eSOuh2"
      },
      "execution_count": 57,
      "outputs": []
    },
    {
      "cell_type": "markdown",
      "source": [
        "## Training on **MNIST**"
      ],
      "metadata": {
        "id": "Q3Kecm4HPHwV"
      }
    },
    {
      "cell_type": "code",
      "source": [
        "# Create Neural Network for MNIST\n",
        "nn_mnist = NeuralNetwork(input_size=784, hidden_layers=[128, 64], output_size=10)\n",
        "\n",
        "# Reshape the data for input\n",
        "X_train_mnist_flat = X_train_mnist.reshape(-1, 784)  # Flatten the images\n",
        "X_test_mnist_flat = X_test_mnist.reshape(-1, 784)"
      ],
      "metadata": {
        "id": "Epxb63gpPKo8"
      },
      "execution_count": 59,
      "outputs": []
    },
    {
      "cell_type": "code",
      "source": [
        "# Train the Neural Network\n",
        "nn_mnist.train(X_train_mnist_flat, y_train_mnist, epochs=10000, learning_rate=0.01)"
      ],
      "metadata": {
        "colab": {
          "base_uri": "https://localhost:8080/",
          "height": 321
        },
        "id": "c4EzCoDtPY_Z",
        "outputId": "09c8b69f-7c3f-47b0-c6c5-a14ddf916547"
      },
      "execution_count": 60,
      "outputs": [
        {
          "output_type": "stream",
          "name": "stdout",
          "text": [
            "Epoch 0, Loss: 0.2817\n"
          ]
        },
        {
          "output_type": "error",
          "ename": "KeyboardInterrupt",
          "evalue": "",
          "traceback": [
            "\u001b[0;31m---------------------------------------------------------------------------\u001b[0m",
            "\u001b[0;31mKeyboardInterrupt\u001b[0m                         Traceback (most recent call last)",
            "\u001b[0;32m<ipython-input-60-eea2b3564c81>\u001b[0m in \u001b[0;36m<cell line: 2>\u001b[0;34m()\u001b[0m\n\u001b[1;32m      1\u001b[0m \u001b[0;31m# Train the Neural Network\u001b[0m\u001b[0;34m\u001b[0m\u001b[0;34m\u001b[0m\u001b[0m\n\u001b[0;32m----> 2\u001b[0;31m \u001b[0mnn_mnist\u001b[0m\u001b[0;34m.\u001b[0m\u001b[0mtrain\u001b[0m\u001b[0;34m(\u001b[0m\u001b[0mX_train_mnist_flat\u001b[0m\u001b[0;34m,\u001b[0m \u001b[0my_train_mnist\u001b[0m\u001b[0;34m,\u001b[0m \u001b[0mepochs\u001b[0m\u001b[0;34m=\u001b[0m\u001b[0;36m10000\u001b[0m\u001b[0;34m,\u001b[0m \u001b[0mlearning_rate\u001b[0m\u001b[0;34m=\u001b[0m\u001b[0;36m0.01\u001b[0m\u001b[0;34m)\u001b[0m\u001b[0;34m\u001b[0m\u001b[0;34m\u001b[0m\u001b[0m\n\u001b[0m",
            "\u001b[0;32m<ipython-input-45-14897aff518e>\u001b[0m in \u001b[0;36mtrain\u001b[0;34m(self, X, y, epochs, learning_rate)\u001b[0m\n\u001b[1;32m     56\u001b[0m   \u001b[0;32mdef\u001b[0m \u001b[0mtrain\u001b[0m\u001b[0;34m(\u001b[0m\u001b[0mself\u001b[0m\u001b[0;34m,\u001b[0m \u001b[0mX\u001b[0m\u001b[0;34m,\u001b[0m \u001b[0my\u001b[0m\u001b[0;34m,\u001b[0m \u001b[0mepochs\u001b[0m\u001b[0;34m,\u001b[0m \u001b[0mlearning_rate\u001b[0m\u001b[0;34m)\u001b[0m\u001b[0;34m:\u001b[0m\u001b[0;34m\u001b[0m\u001b[0;34m\u001b[0m\u001b[0m\n\u001b[1;32m     57\u001b[0m     \u001b[0;32mfor\u001b[0m \u001b[0mepoch\u001b[0m \u001b[0;32min\u001b[0m \u001b[0mrange\u001b[0m\u001b[0;34m(\u001b[0m\u001b[0mepochs\u001b[0m\u001b[0;34m)\u001b[0m\u001b[0;34m:\u001b[0m\u001b[0;34m\u001b[0m\u001b[0;34m\u001b[0m\u001b[0m\n\u001b[0;32m---> 58\u001b[0;31m         \u001b[0moutput\u001b[0m \u001b[0;34m=\u001b[0m \u001b[0mself\u001b[0m\u001b[0;34m.\u001b[0m\u001b[0mforward\u001b[0m\u001b[0;34m(\u001b[0m\u001b[0mX\u001b[0m\u001b[0;34m)\u001b[0m  \u001b[0;31m# Perform a forward pass\u001b[0m\u001b[0;34m\u001b[0m\u001b[0;34m\u001b[0m\u001b[0m\n\u001b[0m\u001b[1;32m     59\u001b[0m         \u001b[0mself\u001b[0m\u001b[0;34m.\u001b[0m\u001b[0mbackward\u001b[0m\u001b[0;34m(\u001b[0m\u001b[0mX\u001b[0m\u001b[0;34m,\u001b[0m \u001b[0my\u001b[0m\u001b[0;34m,\u001b[0m \u001b[0mlearning_rate\u001b[0m\u001b[0;34m)\u001b[0m  \u001b[0;31m# Backpropagate the error\u001b[0m\u001b[0;34m\u001b[0m\u001b[0;34m\u001b[0m\u001b[0m\n\u001b[1;32m     60\u001b[0m         \u001b[0mself\u001b[0m\u001b[0;34m.\u001b[0m\u001b[0mupdate_parameters\u001b[0m\u001b[0;34m(\u001b[0m\u001b[0mlearning_rate\u001b[0m\u001b[0;34m)\u001b[0m  \u001b[0;31m# Update weights and biases\u001b[0m\u001b[0;34m\u001b[0m\u001b[0;34m\u001b[0m\u001b[0m\n",
            "\u001b[0;32m<ipython-input-45-14897aff518e>\u001b[0m in \u001b[0;36mforward\u001b[0;34m(self, X)\u001b[0m\n\u001b[1;32m     17\u001b[0m     \u001b[0mself\u001b[0m\u001b[0;34m.\u001b[0m\u001b[0ma\u001b[0m \u001b[0;34m=\u001b[0m \u001b[0;34m[\u001b[0m\u001b[0mX\u001b[0m\u001b[0;34m]\u001b[0m \u001b[0;31m# Storing the activations for each layer\u001b[0m\u001b[0;34m\u001b[0m\u001b[0;34m\u001b[0m\u001b[0m\n\u001b[1;32m     18\u001b[0m     \u001b[0;32mfor\u001b[0m \u001b[0mi\u001b[0m \u001b[0;32min\u001b[0m \u001b[0mrange\u001b[0m\u001b[0;34m(\u001b[0m\u001b[0mlen\u001b[0m\u001b[0;34m(\u001b[0m\u001b[0mself\u001b[0m\u001b[0;34m.\u001b[0m\u001b[0mweights\u001b[0m\u001b[0;34m)\u001b[0m\u001b[0;34m)\u001b[0m\u001b[0;34m:\u001b[0m\u001b[0;34m\u001b[0m\u001b[0;34m\u001b[0m\u001b[0m\n\u001b[0;32m---> 19\u001b[0;31m       \u001b[0mz\u001b[0m \u001b[0;34m=\u001b[0m \u001b[0mnp\u001b[0m\u001b[0;34m.\u001b[0m\u001b[0mdot\u001b[0m\u001b[0;34m(\u001b[0m\u001b[0mself\u001b[0m\u001b[0;34m.\u001b[0m\u001b[0ma\u001b[0m\u001b[0;34m[\u001b[0m\u001b[0mi\u001b[0m\u001b[0;34m]\u001b[0m\u001b[0;34m,\u001b[0m \u001b[0mself\u001b[0m\u001b[0;34m.\u001b[0m\u001b[0mweights\u001b[0m\u001b[0;34m[\u001b[0m\u001b[0mi\u001b[0m\u001b[0;34m]\u001b[0m\u001b[0;34m)\u001b[0m \u001b[0;34m+\u001b[0m \u001b[0mself\u001b[0m\u001b[0;34m.\u001b[0m\u001b[0mbiases\u001b[0m\u001b[0;34m[\u001b[0m\u001b[0mi\u001b[0m\u001b[0;34m]\u001b[0m\u001b[0;34m\u001b[0m\u001b[0;34m\u001b[0m\u001b[0m\n\u001b[0m\u001b[1;32m     20\u001b[0m \u001b[0;34m\u001b[0m\u001b[0m\n\u001b[1;32m     21\u001b[0m       \u001b[0;32mif\u001b[0m \u001b[0mi\u001b[0m \u001b[0;34m<\u001b[0m \u001b[0mlen\u001b[0m\u001b[0;34m(\u001b[0m\u001b[0mself\u001b[0m\u001b[0;34m.\u001b[0m\u001b[0mweights\u001b[0m\u001b[0;34m)\u001b[0m \u001b[0;34m-\u001b[0m \u001b[0;36m1\u001b[0m\u001b[0;34m:\u001b[0m\u001b[0;34m\u001b[0m\u001b[0;34m\u001b[0m\u001b[0m\n",
            "\u001b[0;31mKeyboardInterrupt\u001b[0m: "
          ]
        }
      ]
    }
  ]
}